{
 "cells": [
  {
   "cell_type": "markdown",
   "metadata": {},
   "source": [
    "# Text Processing\n",
    "\n",
    "## Capturing Text Data\n",
    "\n",
    "### Plain Text"
   ]
  },
  {
   "cell_type": "code",
   "execution_count": 6,
   "metadata": {},
   "outputs": [
    {
     "name": "stdout",
     "output_type": "stream",
     "text": [
      "Hieroglyphic writing dates from c. 3000 BC, and is composed of hundreds of symbols. A hieroglyph can represent a word, a sound, or a silent determinative; and the same symbol can serve different purposes in different contexts. Hieroglyphs were a formal script, used on stone monuments and in tombs, that could be as detailed as individual works of art.\n",
      "\n"
     ]
    }
   ],
   "source": [
    "import os\n",
    "\n",
    "# Read in a plain text file\n",
    "with open(os.path.join(\"data\", \"hieroglyph.txt\"), \"r\") as f:\n",
    "    text = f.read()\n",
    "    print(text)"
   ]
  },
  {
   "cell_type": "markdown",
   "metadata": {},
   "source": [
    "### Tabular Data"
   ]
  },
  {
   "cell_type": "code",
   "execution_count": 7,
   "metadata": {
    "scrolled": true
   },
   "outputs": [
    {
     "data": {
      "text/html": [
       "<div>\n",
       "<style scoped>\n",
       "    .dataframe tbody tr th:only-of-type {\n",
       "        vertical-align: middle;\n",
       "    }\n",
       "\n",
       "    .dataframe tbody tr th {\n",
       "        vertical-align: top;\n",
       "    }\n",
       "\n",
       "    .dataframe thead th {\n",
       "        text-align: right;\n",
       "    }\n",
       "</style>\n",
       "<table border=\"1\" class=\"dataframe\">\n",
       "  <thead>\n",
       "    <tr style=\"text-align: right;\">\n",
       "      <th></th>\n",
       "      <th>publisher</th>\n",
       "      <th>title</th>\n",
       "    </tr>\n",
       "  </thead>\n",
       "  <tbody>\n",
       "    <tr>\n",
       "      <th>0</th>\n",
       "      <td>Livemint</td>\n",
       "      <td>fed's charles plosser sees high bar for change...</td>\n",
       "    </tr>\n",
       "    <tr>\n",
       "      <th>1</th>\n",
       "      <td>IFA Magazine</td>\n",
       "      <td>us open: stocks fall after fed official hints ...</td>\n",
       "    </tr>\n",
       "    <tr>\n",
       "      <th>2</th>\n",
       "      <td>IFA Magazine</td>\n",
       "      <td>fed risks falling 'behind the curve', charles ...</td>\n",
       "    </tr>\n",
       "    <tr>\n",
       "      <th>3</th>\n",
       "      <td>Moneynews</td>\n",
       "      <td>fed's plosser: nasty weather has curbed job gr...</td>\n",
       "    </tr>\n",
       "    <tr>\n",
       "      <th>4</th>\n",
       "      <td>NASDAQ</td>\n",
       "      <td>plosser: fed may have to accelerate tapering pace</td>\n",
       "    </tr>\n",
       "  </tbody>\n",
       "</table>\n",
       "</div>"
      ],
      "text/plain": [
       "      publisher                                              title\n",
       "0      Livemint  fed's charles plosser sees high bar for change...\n",
       "1  IFA Magazine  us open: stocks fall after fed official hints ...\n",
       "2  IFA Magazine  fed risks falling 'behind the curve', charles ...\n",
       "3     Moneynews  fed's plosser: nasty weather has curbed job gr...\n",
       "4        NASDAQ  plosser: fed may have to accelerate tapering pace"
      ]
     },
     "execution_count": 7,
     "metadata": {},
     "output_type": "execute_result"
    }
   ],
   "source": [
    "import pandas as pd\n",
    "\n",
    "# Extract text column from a dataframe\n",
    "df = pd.read_csv(os.path.join(\"data\", \"news.csv\"))\n",
    "df.head()[['publisher', 'title']]\n",
    "\n",
    "# Convert text column to lowercase\n",
    "df['title'] = df['title'].str.lower()\n",
    "df.head()[['publisher', 'title']]"
   ]
  },
  {
   "cell_type": "markdown",
   "metadata": {},
   "source": [
    "### Online Resource"
   ]
  },
  {
   "cell_type": "code",
   "execution_count": 8,
   "metadata": {
    "scrolled": true
   },
   "outputs": [
    {
     "name": "stdout",
     "output_type": "stream",
     "text": [
      "{\n",
      "    \"success\": {\n",
      "        \"total\": 1\n",
      "    },\n",
      "    \"contents\": {\n",
      "        \"quotes\": [\n",
      "            {\n",
      "                \"quote\": \"Don't count the days; make the days count.\",\n",
      "                \"length\": \"42\",\n",
      "                \"author\": \"Mohamad Ali\",\n",
      "                \"tags\": {\n",
      "                    \"0\": \"inspire\",\n",
      "                    \"1\": \"life\",\n",
      "                    \"2\": \"productive\",\n",
      "                    \"4\": \"tod\"\n",
      "                },\n",
      "                \"category\": \"inspire\",\n",
      "                \"language\": \"en\",\n",
      "                \"date\": \"2020-03-28\",\n",
      "                \"permalink\": \"https://theysaidso.com/quote/mohamad-ali-dont-count-the-days-make-the-days-count\",\n",
      "                \"id\": \"zdTLGFsZSu3_FtmJw7XbxQeF\",\n",
      "                \"background\": \"https://theysaidso.com/img/qod/qod-inspire.jpg\",\n",
      "                \"title\": \"Inspiring Quote of the day\"\n",
      "            }\n",
      "        ]\n",
      "    },\n",
      "    \"baseurl\": \"https://theysaidso.com\",\n",
      "    \"copyright\": {\n",
      "        \"year\": 2022,\n",
      "        \"url\": \"https://theysaidso.com\"\n",
      "    }\n",
      "}\n",
      "Don't count the days; make the days count. \n",
      "-- Mohamad Ali\n"
     ]
    }
   ],
   "source": [
    "import requests\n",
    "import json\n",
    "\n",
    "# Fetch data from a REST API\n",
    "r = requests.get(\n",
    "    \"https://quotes.rest/qod.json\")\n",
    "res = r.json()\n",
    "print(json.dumps(res, indent=4))\n",
    "\n",
    "# Extract relevant object and field\n",
    "q = res[\"contents\"][\"quotes\"][0]\n",
    "print(q[\"quote\"], \"\\n--\", q[\"author\"])"
   ]
  },
  {
   "cell_type": "markdown",
   "metadata": {},
   "source": [
    "## Cleaning"
   ]
  },
  {
   "cell_type": "code",
   "execution_count": 9,
   "metadata": {
    "scrolled": true
   },
   "outputs": [
    {
     "name": "stdout",
     "output_type": "stream",
     "text": [
      "<html op=\"news\"><head><meta name=\"referrer\" content=\"origin\"><meta name=\"viewport\" content=\"width=device-width, initial-scale=1.0\"><link rel=\"stylesheet\" type=\"text/css\" href=\"news.css?QbJiN3cRKlV4dvNUGJpv\">\n",
      "        <link rel=\"shortcut icon\" href=\"favicon.ico\">\n",
      "          <link rel=\"alternate\" type=\"application/rss+xml\" title=\"RSS\" href=\"rss\">\n",
      "        <title>Hacker News</title></head><body><center><table id=\"hnmain\" border=\"0\" cellpadding=\"0\" cellspacing=\"0\" width=\"85%\" bgcolor=\"#f6f6ef\">\n",
      "        <tr><td bgcolor=\"#ff6600\"><table border=\"0\" cellpadding=\"0\" cellspacing=\"0\" width=\"100%\" style=\"padding:2px\"><tr><td style=\"width:18px;padding-right:4px\"><a href=\"https://news.ycombinator.com\"><img src=\"y18.gif\" width=\"18\" height=\"18\" style=\"border:1px white solid;\"></a></td>\n",
      "                  <td style=\"line-height:12pt; height:10px;\"><span class=\"pagetop\"><b class=\"hnname\"><a href=\"news\">Hacker News</a></b>\n",
      "              <a href=\"newest\">new</a> | <a href=\"front\">past</a> | <a href=\"newcomments\">comments</a> | <a href=\"ask\">ask</a> | <a href=\"show\">show</a> | <a href=\"jobs\">jobs</a> | <a href=\"submit\">submit</a>            </span></td><td style=\"text-align:right;padding-right:4px;\"><span class=\"pagetop\">\n",
      "                              <a href=\"login?goto=news\">login</a>\n",
      "                          </span></td>\n",
      "              </tr></table></td></tr>\n",
      "<tr id=\"pagespace\" title=\"\" style=\"height:10px\"></tr><tr><td><table border=\"0\" cellpadding=\"0\" cellspacing=\"0\" class=\"itemlist\">\n",
      "              <tr class='athing' id='22708233'>\n",
      "      <td align=\"right\" valign=\"top\" class=\"title\"><span class=\"rank\">1.</span></td>      <td valign=\"top\" class=\"votelinks\"><center><a id='up_22708233' href='vote?id=22708233&amp;how=up&amp;goto=news'><div class='votearrow' title='upvote'></div></a></center></td><td class=\"title\"><a href=\"https://blog.zoom.us/wordpress/2020/03/27/zoom-use-of-facebook-sdk-in-ios-client/\" class=\"storylink\">Zoom’s Use of Facebook’s SDK in iOS Client</a><span class=\"sitebit comhead\"> (<a href=\"from?site=zoom.us\"><span class=\"sitestr\">zoom.us</span></a>)</span></td></tr><tr><td colspan=\"2\"></td><td class=\"subtext\">\n",
      "        <span class=\"score\" id=\"score_22708233\">183 points</span> by <a href=\"user?id=patrickyevsukov\" class=\"hnuser\">patrickyevsukov</a> <span class=\"age\"><a href=\"item?id=22708233\">3 hours ago</a></span> <span id=\"unv_22708233\"></span> | <a href=\"hide?id=22708233&amp;goto=news\">hide</a> | <a href=\"item?id=22708233\">67&nbsp;comments</a>              </td></tr>\n",
      "      <tr class=\"spacer\" style=\"height:5px\"></tr>\n",
      "                <tr class='athing' id='22708833'>\n",
      "      <td align=\"right\" valign=\"top\" class=\"title\"><span class=\"rank\">2.</span></td>      <td valign=\"top\" class=\"votelinks\"><center><a id='up_22708833' href='vote?id=22708833&amp;how=up&amp;goto=news'><div class='votearrow' title='upvote'></div></a></center></td><td class=\"title\"><a href=\"https://www.bloomberg.com/news/articles/2020-03-27/robinhood-accused-of-offering-credits-for-snafu-to-squelch-suits\" class=\"storylink\">Robinhood accused of offering $75 credit to wipe out class action lawsuit claims</a><span class=\"sitebit comhead\"> (<a href=\"from?site=bloomberg.com\"><span class=\"sitestr\">bloomberg.com</span></a>)</span></td></tr><tr><td colspan=\"2\"></td><td class=\"subtext\">\n",
      "        <span class=\"score\" id=\"score_22708833\">24 points</span> by <a href=\"user?id=rococode\" class=\"hnuser\">rococode</a> <span class=\"age\"><a href=\"item?id=22708833\">1 hour ago</a></span> <span id=\"unv_22708833\"></span> | <a href=\"hide?id=22708833&amp;goto=news\">hide</a> | <a href=\"item?id=22708833\">4&nbsp;comments</a>              </td></tr>\n",
      "      <tr class=\"spacer\" style=\"height:5px\"></tr>\n",
      "                <tr class='athing' id='22706242'>\n",
      "      <td align=\"right\" valign=\"top\" class=\"title\"><span class=\"rank\">3.</span></td>      <td valign=\"top\" class=\"votelinks\"><center><a id='up_22706242' href='vote?id=22706242&amp;how=up&amp;goto=news'><div class='votearrow' title='upvote'></div></a></center></td><td class=\"title\"><a href=\"http://journal.stuffwithstuff.com/2015/09/08/the-hardest-program-ive-ever-written/\" class=\"storylink\">The Hardest Program I've Ever Written – How a code formatter works (2015)</a><span class=\"sitebit comhead\"> (<a href=\"from?site=stuffwithstuff.com\"><span class=\"sitestr\">stuffwithstuff.com</span></a>)</span></td></tr><tr><td colspan=\"2\"></td><td class=\"subtext\">\n",
      "        <span class=\"score\" id=\"score_22706242\">272 points</span> by <a href=\"user?id=pcr910303\" class=\"hnuser\">pcr910303</a> <span class=\"age\"><a href=\"item?id=22706242\">8 hours ago</a></span> <span id=\"unv_22706242\"></span> | <a href=\"hide?id=22706242&amp;goto=news\">hide</a> | <a href=\"item?id=22706242\">76&nbsp;comments</a>              </td></tr>\n",
      "      <tr class=\"spacer\" style=\"height:5px\"></tr>\n",
      "                <tr class='athing' id='22700516'>\n",
      "      <td align=\"right\" valign=\"top\" class=\"title\"><span class=\"rank\">4.</span></td>      <td valign=\"top\" class=\"votelinks\"><center><a id='up_22700516' href='vote?id=22700516&amp;how=up&amp;goto=news'><div class='votearrow' title='upvote'></div></a></center></td><td class=\"title\"><a href=\"https://petapixel.com/2020/03/26/sony-spins-off-camera-business-into-separate-company/\" class=\"storylink\">Sony spins off camera business into separate company</a><span class=\"sitebit comhead\"> (<a href=\"from?site=petapixel.com\"><span class=\"sitestr\">petapixel.com</span></a>)</span></td></tr><tr><td colspan=\"2\"></td><td class=\"subtext\">\n",
      "        <span class=\"score\" id=\"score_22700516\">88 points</span> by <a href=\"user?id=notlukesky\" class=\"hnuser\">notlukesky</a> <span class=\"age\"><a href=\"item?id=22700516\">5 hours ago</a></span> <span id=\"unv_22700516\"></span> | <a href=\"hide?id=22700516&amp;goto=news\">hide</a> | <a href=\"item?id=22700516\">41&nbsp;comments</a>              </td></tr>\n",
      "      <tr class=\"spacer\" style=\"height:5px\"></tr>\n",
      "                <tr class='athing' id='22708041'>\n",
      "      <td align=\"right\" valign=\"top\" class=\"title\"><span class=\"rank\">5.</span></td>      <td valign=\"top\" class=\"votelinks\"><center><a id='up_22708041' href='vote?id=22708041&amp;how=up&amp;goto=news'><div class='votearrow' title='upvote'></div></a></center></td><td class=\"title\"><a href=\"https://chapel-lang.org/\" class=\"storylink\">The Chapel Parallel Programming Language</a><span class=\"sitebit comhead\"> (<a href=\"from?site=chapel-lang.org\"><span class=\"sitestr\">chapel-lang.org</span></a>)</span></td></tr><tr><td colspan=\"2\"></td><td class=\"subtext\">\n",
      "        <span class=\"score\" id=\"score_22708041\">63 points</span> by <a href=\"user?id=wuschel\" class=\"hnuser\">wuschel</a> <span class=\"age\"><a href=\"item?id=22708041\">4 hours ago</a></span> <span id=\"unv_22708041\"></span> | <a href=\"hide?id=22708041&amp;goto=news\">hide</a> | <a href=\"item?id=22708041\">18&nbsp;comments</a>              </td></tr>\n",
      "      <tr class=\"spacer\" style=\"height:5px\"></tr>\n",
      "                <tr class='athing' id='22701113'>\n",
      "      <td align=\"right\" valign=\"top\" class=\"title\"><span class=\"rank\">6.</span></td>      <td valign=\"top\" class=\"votelinks\"><center><a id='up_22701113' href='vote?id=22701113&amp;how=up&amp;goto=news'><div class='votearrow' title='upvote'></div></a></center></td><td class=\"title\"><a href=\"http://www.cabinetmagazine.org/issues/66/dorrian.php\" class=\"storylink\">Banham avec Ballard: On style and violence (2019)</a><span class=\"sitebit comhead\"> (<a href=\"from?site=cabinetmagazine.org\"><span class=\"sitestr\">cabinetmagazine.org</span></a>)</span></td></tr><tr><td colspan=\"2\"></td><td class=\"subtext\">\n",
      "        <span class=\"score\" id=\"score_22701113\">14 points</span> by <a href=\"user?id=silt\" class=\"hnuser\">silt</a> <span class=\"age\"><a href=\"item?id=22701113\">1 hour ago</a></span> <span id=\"unv_22701113\"></span> | <a href=\"hide?id=22701113&amp;goto=news\">hide</a> | <a href=\"item?id=22701113\">1&nbsp;comment</a>              </td></tr>\n",
      "      <tr class=\"spacer\" style=\"height:5px\"></tr>\n",
      "                <tr class='athing' id='22705712'>\n",
      "      <td align=\"right\" valign=\"top\" class=\"title\"><span class=\"rank\">7.</span></td>      <td valign=\"top\" class=\"votelinks\"><center><a id='up_22705712' href='vote?id=22705712&amp;how=up&amp;goto=news'><div class='votearrow' title='upvote'></div></a></center></td><td class=\"title\"><a href=\"https://www.sfgate.com/living-in-sf/article/Coyotes-are-being-seen-on-the-empty-streets-15159105.php\" class=\"storylink\">Coyotes are being seen on the empty streets of San Francisco</a><span class=\"sitebit comhead\"> (<a href=\"from?site=sfgate.com\"><span class=\"sitestr\">sfgate.com</span></a>)</span></td></tr><tr><td colspan=\"2\"></td><td class=\"subtext\">\n",
      "        <span class=\"score\" id=\"score_22705712\">230 points</span> by <a href=\"user?id=spking\" class=\"hnuser\">spking</a> <span class=\"age\"><a href=\"item?id=22705712\">9 hours ago</a></span> <span id=\"unv_22705712\"></span> | <a href=\"hide?id=22705712&amp;goto=news\">hide</a> | <a href=\"item?id=22705712\">206&nbsp;comments</a>              </td></tr>\n",
      "      <tr class=\"spacer\" style=\"height:5px\"></tr>\n",
      "                <tr class='athing' id='22708199'>\n",
      "      <td align=\"right\" valign=\"top\" class=\"title\"><span class=\"rank\">8.</span></td>      <td valign=\"top\" class=\"votelinks\"><center><a id='up_22708199' href='vote?id=22708199&amp;how=up&amp;goto=news'><div class='votearrow' title='upvote'></div></a></center></td><td class=\"title\"><a href=\"http://rahulrav.com/blog/bokehlicious.html\" class=\"storylink\">Bokehlicious Selfies</a><span class=\"sitebit comhead\"> (<a href=\"from?site=rahulrav.com\"><span class=\"sitestr\">rahulrav.com</span></a>)</span></td></tr><tr><td colspan=\"2\"></td><td class=\"subtext\">\n",
      "        <span class=\"score\" id=\"score_22708199\">57 points</span> by <a href=\"user?id=rahulrav\" class=\"hnuser\">rahulrav</a> <span class=\"age\"><a href=\"item?id=22708199\">3 hours ago</a></span> <span id=\"unv_22708199\"></span> | <a href=\"hide?id=22708199&amp;goto=news\">hide</a> | <a href=\"item?id=22708199\">15&nbsp;comments</a>              </td></tr>\n",
      "      <tr class=\"spacer\" style=\"height:5px\"></tr>\n",
      "                <tr class='athing' id='22704774'>\n",
      "      <td align=\"right\" valign=\"top\" class=\"title\"><span class=\"rank\">9.</span></td>      <td valign=\"top\" class=\"votelinks\"><center><a id='up_22704774' href='vote?id=22704774&amp;how=up&amp;goto=news'><div class='votearrow' title='upvote'></div></a></center></td><td class=\"title\"><a href=\"https://toroid.org/unix-pipe-implementation\" class=\"storylink\">How are Unix pipes implemented?</a><span class=\"sitebit comhead\"> (<a href=\"from?site=toroid.org\"><span class=\"sitestr\">toroid.org</span></a>)</span></td></tr><tr><td colspan=\"2\"></td><td class=\"subtext\">\n",
      "        <span class=\"score\" id=\"score_22704774\">265 points</span> by <a href=\"user?id=Arnt\" class=\"hnuser\">Arnt</a> <span class=\"age\"><a href=\"item?id=22704774\">11 hours ago</a></span> <span id=\"unv_22704774\"></span> | <a href=\"hide?id=22704774&amp;goto=news\">hide</a> | <a href=\"item?id=22704774\">30&nbsp;comments</a>              </td></tr>\n",
      "      <tr class=\"spacer\" style=\"height:5px\"></tr>\n",
      "                <tr class='athing' id='22703000'>\n",
      "      <td align=\"right\" valign=\"top\" class=\"title\"><span class=\"rank\">10.</span></td>      <td valign=\"top\" class=\"votelinks\"><center><a id='up_22703000' href='vote?id=22703000&amp;how=up&amp;goto=news'><div class='votearrow' title='upvote'></div></a></center></td><td class=\"title\"><a href=\"https://blogs.harvard.edu/doc/2020/03/27/zoom/\" class=\"storylink\">Zoom needs to clean up its privacy act</a><span class=\"sitebit comhead\"> (<a href=\"from?site=blogs.harvard.edu\"><span class=\"sitestr\">blogs.harvard.edu</span></a>)</span></td></tr><tr><td colspan=\"2\"></td><td class=\"subtext\">\n",
      "        <span class=\"score\" id=\"score_22703000\">1391 points</span> by <a href=\"user?id=seapunk\" class=\"hnuser\">seapunk</a> <span class=\"age\"><a href=\"item?id=22703000\">14 hours ago</a></span> <span id=\"unv_22703000\"></span> | <a href=\"hide?id=22703000&amp;goto=news\">hide</a> | <a href=\"item?id=22703000\">455&nbsp;comments</a>              </td></tr>\n",
      "      <tr class=\"spacer\" style=\"height:5px\"></tr>\n",
      "                <tr class='athing' id='22708535'>\n",
      "      <td align=\"right\" valign=\"top\" class=\"title\"><span class=\"rank\">11.</span></td>      <td valign=\"top\" class=\"votelinks\"><center><a id='up_22708535' href='vote?id=22708535&amp;how=up&amp;goto=news'><div class='votearrow' title='upvote'></div></a></center></td><td class=\"title\"><a href=\"https://www.abbott.com/corpnewsroom/product-and-innovation/detect-covid-19-in-as-little-as-5-minutes.html\" class=\"storylink\">FDA grants emergency use authorization for 5-13 minute Covid-19 test</a><span class=\"sitebit comhead\"> (<a href=\"from?site=abbott.com\"><span class=\"sitestr\">abbott.com</span></a>)</span></td></tr><tr><td colspan=\"2\"></td><td class=\"subtext\">\n",
      "        <span class=\"score\" id=\"score_22708535\">56 points</span> by <a href=\"user?id=edouard-harris\" class=\"hnuser\">edouard-harris</a> <span class=\"age\"><a href=\"item?id=22708535\">2 hours ago</a></span> <span id=\"unv_22708535\"></span> | <a href=\"hide?id=22708535&amp;goto=news\">hide</a> | <a href=\"item?id=22708535\">40&nbsp;comments</a>              </td></tr>\n",
      "      <tr class=\"spacer\" style=\"height:5px\"></tr>\n",
      "                <tr class='athing' id='22692281'>\n",
      "      <td align=\"right\" valign=\"top\" class=\"title\"><span class=\"rank\">12.</span></td>      <td valign=\"top\" class=\"votelinks\"><center><a id='up_22692281' href='vote?id=22692281&amp;how=up&amp;goto=news'><div class='votearrow' title='upvote'></div></a></center></td><td class=\"title\"><a href=\"item?id=22692281\" class=\"storylink\">Ask HN: Computer Science/History Books?</a></td></tr><tr><td colspan=\"2\"></td><td class=\"subtext\">\n",
      "        <span class=\"score\" id=\"score_22692281\">162 points</span> by <a href=\"user?id=jackofalltrades\" class=\"hnuser\">jackofalltrades</a> <span class=\"age\"><a href=\"item?id=22692281\">9 hours ago</a></span> <span id=\"unv_22692281\"></span> | <a href=\"hide?id=22692281&amp;goto=news\">hide</a> | <a href=\"item?id=22692281\">87&nbsp;comments</a>              </td></tr>\n",
      "      <tr class=\"spacer\" style=\"height:5px\"></tr>\n",
      "                <tr class='athing' id='22705268'>\n",
      "      <td align=\"right\" valign=\"top\" class=\"title\"><span class=\"rank\">13.</span></td>      <td valign=\"top\" class=\"votelinks\"><center><a id='up_22705268' href='vote?id=22705268&amp;how=up&amp;goto=news'><div class='votearrow' title='upvote'></div></a></center></td><td class=\"title\"><a href=\"https://padiracinnovation.org/News/2020/03/the-theory-of-infectious-origin-of-the-alzheimers-disease\" class=\"storylink\">The theory of infectious origin of the Alzheimer’s disease</a><span class=\"sitebit comhead\"> (<a href=\"from?site=padiracinnovation.org\"><span class=\"sitestr\">padiracinnovation.org</span></a>)</span></td></tr><tr><td colspan=\"2\"></td><td class=\"subtext\">\n",
      "        <span class=\"score\" id=\"score_22705268\">142 points</span> by <a href=\"user?id=JPLeRouzic\" class=\"hnuser\">JPLeRouzic</a> <span class=\"age\"><a href=\"item?id=22705268\">10 hours ago</a></span> <span id=\"unv_22705268\"></span> | <a href=\"hide?id=22705268&amp;goto=news\">hide</a> | <a href=\"item?id=22705268\">59&nbsp;comments</a>              </td></tr>\n",
      "      <tr class=\"spacer\" style=\"height:5px\"></tr>\n",
      "                <tr class='athing' id='22703112'>\n",
      "      <td align=\"right\" valign=\"top\" class=\"title\"><span class=\"rank\">14.</span></td>      <td valign=\"top\" class=\"votelinks\"><center><a id='up_22703112' href='vote?id=22703112&amp;how=up&amp;goto=news'><div class='votearrow' title='upvote'></div></a></center></td><td class=\"title\"><a href=\"https://iamintrovert.co\" class=\"storylink\">Show HN: Introvert – Generative artwork to keep you off your phone</a><span class=\"sitebit comhead\"> (<a href=\"from?site=iamintrovert.co\"><span class=\"sitestr\">iamintrovert.co</span></a>)</span></td></tr><tr><td colspan=\"2\"></td><td class=\"subtext\">\n",
      "        <span class=\"score\" id=\"score_22703112\">259 points</span> by <a href=\"user?id=ilyayudanov\" class=\"hnuser\">ilyayudanov</a> <span class=\"age\"><a href=\"item?id=22703112\">14 hours ago</a></span> <span id=\"unv_22703112\"></span> | <a href=\"hide?id=22703112&amp;goto=news\">hide</a> | <a href=\"item?id=22703112\">74&nbsp;comments</a>              </td></tr>\n",
      "      <tr class=\"spacer\" style=\"height:5px\"></tr>\n",
      "                <tr class='athing' id='22708574'>\n",
      "      <td align=\"right\" valign=\"top\" class=\"title\"><span class=\"rank\">15.</span></td>      <td valign=\"top\" class=\"votelinks\"><center><a id='up_22708574' href='vote?id=22708574&amp;how=up&amp;goto=news'><div class='votearrow' title='upvote'></div></a></center></td><td class=\"title\"><a href=\"https://www.bloomberg.com/news/articles/2020-03-27/abbott-launches-5-minute-covid-19-test-for-use-almost-anywhere\" class=\"storylink\">Abbott Launches 5-Minute Covid-19 Test for Use Almost Anywhere</a><span class=\"sitebit comhead\"> (<a href=\"from?site=bloomberg.com\"><span class=\"sitestr\">bloomberg.com</span></a>)</span></td></tr><tr><td colspan=\"2\"></td><td class=\"subtext\">\n",
      "        <span class=\"score\" id=\"score_22708574\">31 points</span> by <a href=\"user?id=rafaelc\" class=\"hnuser\">rafaelc</a> <span class=\"age\"><a href=\"item?id=22708574\">2 hours ago</a></span> <span id=\"unv_22708574\"></span> | <a href=\"hide?id=22708574&amp;goto=news\">hide</a> | <a href=\"item?id=22708574\">1&nbsp;comment</a>              </td></tr>\n",
      "      <tr class=\"spacer\" style=\"height:5px\"></tr>\n",
      "                <tr class='athing' id='22702293'>\n",
      "      <td align=\"right\" valign=\"top\" class=\"title\"><span class=\"rank\">16.</span></td>      <td valign=\"top\" class=\"votelinks\"><center><a id='up_22702293' href='vote?id=22702293&amp;how=up&amp;goto=news'><div class='votearrow' title='upvote'></div></a></center></td><td class=\"title\"><a href=\"https://github.com/heathermiller/dist-prog-book\" class=\"storylink\">Programming Models for Distributed Computation</a><span class=\"sitebit comhead\"> (<a href=\"from?site=github.com\"><span class=\"sitestr\">github.com</span></a>)</span></td></tr><tr><td colspan=\"2\"></td><td class=\"subtext\">\n",
      "        <span class=\"score\" id=\"score_22702293\">14 points</span> by <a href=\"user?id=simonpure\" class=\"hnuser\">simonpure</a> <span class=\"age\"><a href=\"item?id=22702293\">2 hours ago</a></span> <span id=\"unv_22702293\"></span> | <a href=\"hide?id=22702293&amp;goto=news\">hide</a> | <a href=\"item?id=22702293\">discuss</a>              </td></tr>\n",
      "      <tr class=\"spacer\" style=\"height:5px\"></tr>\n",
      "                <tr class='athing' id='22703758'>\n",
      "      <td align=\"right\" valign=\"top\" class=\"title\"><span class=\"rank\">17.</span></td>      <td valign=\"top\" class=\"votelinks\"><center><a id='up_22703758' href='vote?id=22703758&amp;how=up&amp;goto=news'><div class='votearrow' title='upvote'></div></a></center></td><td class=\"title\"><a href=\"https://blog.wunderstock.com/sba-disaster-loans/\" class=\"storylink\">SBA Disaster Loans: Unofficial guide for freelancers and startups</a><span class=\"sitebit comhead\"> (<a href=\"from?site=wunderstock.com\"><span class=\"sitestr\">wunderstock.com</span></a>)</span></td></tr><tr><td colspan=\"2\"></td><td class=\"subtext\">\n",
      "        <span class=\"score\" id=\"score_22703758\">147 points</span> by <a href=\"user?id=danielfoster\" class=\"hnuser\">danielfoster</a> <span class=\"age\"><a href=\"item?id=22703758\">13 hours ago</a></span> <span id=\"unv_22703758\"></span> | <a href=\"hide?id=22703758&amp;goto=news\">hide</a> | <a href=\"item?id=22703758\">41&nbsp;comments</a>              </td></tr>\n",
      "      <tr class=\"spacer\" style=\"height:5px\"></tr>\n",
      "                <tr class='athing' id='22706194'>\n",
      "      <td align=\"right\" valign=\"top\" class=\"title\"><span class=\"rank\">18.</span></td>      <td valign=\"top\" class=\"votelinks\"><center><a id='up_22706194' href='vote?id=22706194&amp;how=up&amp;goto=news'><div class='votearrow' title='upvote'></div></a></center></td><td class=\"title\"><a href=\"https://inessential.com/2020/03/27/the_ios_and_mac_markets_are_the_same_siz\" class=\"storylink\">The iOS and Mac markets are almost the same size?</a><span class=\"sitebit comhead\"> (<a href=\"from?site=inessential.com\"><span class=\"sitestr\">inessential.com</span></a>)</span></td></tr><tr><td colspan=\"2\"></td><td class=\"subtext\">\n",
      "        <span class=\"score\" id=\"score_22706194\">66 points</span> by <a href=\"user?id=pcr910303\" class=\"hnuser\">pcr910303</a> <span class=\"age\"><a href=\"item?id=22706194\">8 hours ago</a></span> <span id=\"unv_22706194\"></span> | <a href=\"hide?id=22706194&amp;goto=news\">hide</a> | <a href=\"item?id=22706194\">55&nbsp;comments</a>              </td></tr>\n",
      "      <tr class=\"spacer\" style=\"height:5px\"></tr>\n",
      "                <tr class='athing' id='22694014'>\n",
      "      <td align=\"right\" valign=\"top\" class=\"title\"><span class=\"rank\">19.</span></td>      <td valign=\"top\" class=\"votelinks\"><center><a id='up_22694014' href='vote?id=22694014&amp;how=up&amp;goto=news'><div class='votearrow' title='upvote'></div></a></center></td><td class=\"title\"><a href=\"https://blog.trello.com/decision-journal\" class=\"storylink\">Use a Decision Journal</a><span class=\"sitebit comhead\"> (<a href=\"from?site=trello.com\"><span class=\"sitestr\">trello.com</span></a>)</span></td></tr><tr><td colspan=\"2\"></td><td class=\"subtext\">\n",
      "        <span class=\"score\" id=\"score_22694014\">155 points</span> by <a href=\"user?id=ingve\" class=\"hnuser\">ingve</a> <span class=\"age\"><a href=\"item?id=22694014\">13 hours ago</a></span> <span id=\"unv_22694014\"></span> | <a href=\"hide?id=22694014&amp;goto=news\">hide</a> | <a href=\"item?id=22694014\">27&nbsp;comments</a>              </td></tr>\n",
      "      <tr class=\"spacer\" style=\"height:5px\"></tr>\n",
      "                <tr class='athing' id='22707869'>\n",
      "      <td align=\"right\" valign=\"top\" class=\"title\"><span class=\"rank\">20.</span></td>      <td valign=\"top\" class=\"votelinks\"><center><a id='up_22707869' href='vote?id=22707869&amp;how=up&amp;goto=news'><div class='votearrow' title='upvote'></div></a></center></td><td class=\"title\"><a href=\"https://www.vice.com/en_us/article/4agmvd/instacarts-gig-workers-are-planning-a-massive-nationwide-strike\" class=\"storylink\">Instacart’s gig workers are planning a nationwide strike</a><span class=\"sitebit comhead\"> (<a href=\"from?site=vice.com\"><span class=\"sitestr\">vice.com</span></a>)</span></td></tr><tr><td colspan=\"2\"></td><td class=\"subtext\">\n",
      "        <span class=\"score\" id=\"score_22707869\">121 points</span> by <a href=\"user?id=gcheong\" class=\"hnuser\">gcheong</a> <span class=\"age\"><a href=\"item?id=22707869\">5 hours ago</a></span> <span id=\"unv_22707869\"></span> | <a href=\"hide?id=22707869&amp;goto=news\">hide</a> | <a href=\"item?id=22707869\">81&nbsp;comments</a>              </td></tr>\n",
      "      <tr class=\"spacer\" style=\"height:5px\"></tr>\n",
      "                <tr class='athing' id='22702340'>\n",
      "      <td align=\"right\" valign=\"top\" class=\"title\"><span class=\"rank\">21.</span></td>      <td valign=\"top\" class=\"votelinks\"><center><a id='up_22702340' href='vote?id=22702340&amp;how=up&amp;goto=news'><div class='votearrow' title='upvote'></div></a></center></td><td class=\"title\"><a href=\"https://thereader.mitpress.mit.edu/the-mega-wars-that-shaped-world-history/\" class=\"storylink\">Mega-wars that shaped world history</a><span class=\"sitebit comhead\"> (<a href=\"from?site=mit.edu\"><span class=\"sitestr\">mit.edu</span></a>)</span></td></tr><tr><td colspan=\"2\"></td><td class=\"subtext\">\n",
      "        <span class=\"score\" id=\"score_22702340\">40 points</span> by <a href=\"user?id=anarbadalov\" class=\"hnuser\">anarbadalov</a> <span class=\"age\"><a href=\"item?id=22702340\">7 hours ago</a></span> <span id=\"unv_22702340\"></span> | <a href=\"hide?id=22702340&amp;goto=news\">hide</a> | <a href=\"item?id=22702340\">32&nbsp;comments</a>              </td></tr>\n",
      "      <tr class=\"spacer\" style=\"height:5px\"></tr>\n",
      "                <tr class='athing' id='22707102'>\n",
      "      <td align=\"right\" valign=\"top\" class=\"title\"><span class=\"rank\">22.</span></td>      <td valign=\"top\" class=\"votelinks\"><center><a id='up_22707102' href='vote?id=22707102&amp;how=up&amp;goto=news'><div class='votearrow' title='upvote'></div></a></center></td><td class=\"title\"><a href=\"https://retrocomputing.stackexchange.com/questions/14229/is-there-any-code-in-firefox-as-of-2020-that-comes-from-netscape-navigator\" class=\"storylink\">Is there any code in Firefox (as of 2020) that comes from Netscape Navigator?</a><span class=\"sitebit comhead\"> (<a href=\"from?site=stackexchange.com\"><span class=\"sitestr\">stackexchange.com</span></a>)</span></td></tr><tr><td colspan=\"2\"></td><td class=\"subtext\">\n",
      "        <span class=\"score\" id=\"score_22707102\">124 points</span> by <a href=\"user?id=aaronbrethorst\" class=\"hnuser\">aaronbrethorst</a> <span class=\"age\"><a href=\"item?id=22707102\">6 hours ago</a></span> <span id=\"unv_22707102\"></span> | <a href=\"hide?id=22707102&amp;goto=news\">hide</a> | <a href=\"item?id=22707102\">31&nbsp;comments</a>              </td></tr>\n",
      "      <tr class=\"spacer\" style=\"height:5px\"></tr>\n",
      "                <tr class='athing' id='22705028'>\n",
      "      <td align=\"right\" valign=\"top\" class=\"title\"><span class=\"rank\">23.</span></td>      <td valign=\"top\" class=\"votelinks\"><center><a id='up_22705028' href='vote?id=22705028&amp;how=up&amp;goto=news'><div class='votearrow' title='upvote'></div></a></center></td><td class=\"title\"><a href=\"https://arxiv.org/abs/2003.11755\" class=\"storylink\">A Survey of Deep Learning for Scientific Discovery</a><span class=\"sitebit comhead\"> (<a href=\"from?site=arxiv.org\"><span class=\"sitestr\">arxiv.org</span></a>)</span></td></tr><tr><td colspan=\"2\"></td><td class=\"subtext\">\n",
      "        <span class=\"score\" id=\"score_22705028\">76 points</span> by <a href=\"user?id=alokrai\" class=\"hnuser\">alokrai</a> <span class=\"age\"><a href=\"item?id=22705028\">10 hours ago</a></span> <span id=\"unv_22705028\"></span> | <a href=\"hide?id=22705028&amp;goto=news\">hide</a> | <a href=\"item?id=22705028\">13&nbsp;comments</a>              </td></tr>\n",
      "      <tr class=\"spacer\" style=\"height:5px\"></tr>\n",
      "                <tr class='athing' id='22703959'>\n",
      "      <td align=\"right\" valign=\"top\" class=\"title\"><span class=\"rank\">24.</span></td>      <td valign=\"top\" class=\"votelinks\"><center><a id='up_22703959' href='vote?id=22703959&amp;how=up&amp;goto=news'><div class='votearrow' title='upvote'></div></a></center></td><td class=\"title\"><a href=\"https://ycadvice.com\" class=\"storylink\">Show HN: YC's startup advice, organized and searchable</a><span class=\"sitebit comhead\"> (<a href=\"from?site=ycadvice.com\"><span class=\"sitestr\">ycadvice.com</span></a>)</span></td></tr><tr><td colspan=\"2\"></td><td class=\"subtext\">\n",
      "        <span class=\"score\" id=\"score_22703959\">109 points</span> by <a href=\"user?id=nyrulez\" class=\"hnuser\">nyrulez</a> <span class=\"age\"><a href=\"item?id=22703959\">12 hours ago</a></span> <span id=\"unv_22703959\"></span> | <a href=\"hide?id=22703959&amp;goto=news\">hide</a> | <a href=\"item?id=22703959\">28&nbsp;comments</a>              </td></tr>\n",
      "      <tr class=\"spacer\" style=\"height:5px\"></tr>\n",
      "                <tr class='athing' id='22691603'>\n",
      "      <td align=\"right\" valign=\"top\" class=\"title\"><span class=\"rank\">25.</span></td>      <td valign=\"top\" class=\"votelinks\"><center><a id='up_22691603' href='vote?id=22691603&amp;how=up&amp;goto=news'><div class='votearrow' title='upvote'></div></a></center></td><td class=\"title\"><a href=\"https://blog.afandian.com/2020/02/light-box-heavy-times/\" class=\"storylink\">A Light Box in Heavy Times</a><span class=\"sitebit comhead\"> (<a href=\"from?site=afandian.com\"><span class=\"sitestr\">afandian.com</span></a>)</span></td></tr><tr><td colspan=\"2\"></td><td class=\"subtext\">\n",
      "        <span class=\"score\" id=\"score_22691603\">112 points</span> by <a href=\"user?id=afandian\" class=\"hnuser\">afandian</a> <span class=\"age\"><a href=\"item?id=22691603\">13 hours ago</a></span> <span id=\"unv_22691603\"></span> | <a href=\"hide?id=22691603&amp;goto=news\">hide</a> | <a href=\"item?id=22691603\">20&nbsp;comments</a>              </td></tr>\n",
      "      <tr class=\"spacer\" style=\"height:5px\"></tr>\n",
      "                <tr class='athing' id='22702869'>\n",
      "      <td align=\"right\" valign=\"top\" class=\"title\"><span class=\"rank\">26.</span></td>      <td valign=\"top\" class=\"votelinks\"><center><a id='up_22702869' href='vote?id=22702869&amp;how=up&amp;goto=news'><div class='votearrow' title='upvote'></div></a></center></td><td class=\"title\"><a href=\"https://www.quantamagazine.org/puzzle-solution-is-it-turtles-all-the-way-down-20200327/\" class=\"storylink\">Solution: ‘Is It Turtles All the Way Down?’</a><span class=\"sitebit comhead\"> (<a href=\"from?site=quantamagazine.org\"><span class=\"sitestr\">quantamagazine.org</span></a>)</span></td></tr><tr><td colspan=\"2\"></td><td class=\"subtext\">\n",
      "        <span class=\"score\" id=\"score_22702869\">39 points</span> by <a href=\"user?id=theafh\" class=\"hnuser\">theafh</a> <span class=\"age\"><a href=\"item?id=22702869\">7 hours ago</a></span> <span id=\"unv_22702869\"></span> | <a href=\"hide?id=22702869&amp;goto=news\">hide</a> | <a href=\"item?id=22702869\">1&nbsp;comment</a>              </td></tr>\n",
      "      <tr class=\"spacer\" style=\"height:5px\"></tr>\n",
      "                <tr class='athing' id='22707365'>\n",
      "      <td align=\"right\" valign=\"top\" class=\"title\"><span class=\"rank\">27.</span></td>      <td valign=\"top\" class=\"votelinks\"><center><a id='up_22707365' href='vote?id=22707365&amp;how=up&amp;goto=news'><div class='votearrow' title='upvote'></div></a></center></td><td class=\"title\"><a href=\"https://www.theinformation.com/articles/airbnb-to-halt-all-marketing-most-hiring-as-losses-mount?pu=hackernewsju49op&amp;utm_source=hackernews&amp;utm_medium=unlock\" class=\"storylink\">Airbnb to halt all marketing, most hiring as losses mount</a><span class=\"sitebit comhead\"> (<a href=\"from?site=theinformation.com\"><span class=\"sitestr\">theinformation.com</span></a>)</span></td></tr><tr><td colspan=\"2\"></td><td class=\"subtext\">\n",
      "        <span class=\"score\" id=\"score_22707365\">111 points</span> by <a href=\"user?id=aaronbrethorst\" class=\"hnuser\">aaronbrethorst</a> <span class=\"age\"><a href=\"item?id=22707365\">6 hours ago</a></span> <span id=\"unv_22707365\"></span> | <a href=\"hide?id=22707365&amp;goto=news\">hide</a> | <a href=\"item?id=22707365\">64&nbsp;comments</a>              </td></tr>\n",
      "      <tr class=\"spacer\" style=\"height:5px\"></tr>\n",
      "                <tr class='athing' id='22706307'>\n",
      "      <td align=\"right\" valign=\"top\" class=\"title\"><span class=\"rank\">28.</span></td>      <td valign=\"top\" class=\"votelinks\"><center><a id='up_22706307' href='vote?id=22706307&amp;how=up&amp;goto=news'><div class='votearrow' title='upvote'></div></a></center></td><td class=\"title\"><a href=\"https://www.theverge.com/2020/3/26/21196446/yelp-gofundme-coronavirus-automatic-opt-in-fundraiser-pause\" class=\"storylink\">Yelp to stop auto-creating fundraisers after outrage from business owners</a><span class=\"sitebit comhead\"> (<a href=\"from?site=theverge.com\"><span class=\"sitestr\">theverge.com</span></a>)</span></td></tr><tr><td colspan=\"2\"></td><td class=\"subtext\">\n",
      "        <span class=\"score\" id=\"score_22706307\">131 points</span> by <a href=\"user?id=smacktoward\" class=\"hnuser\">smacktoward</a> <span class=\"age\"><a href=\"item?id=22706307\">8 hours ago</a></span> <span id=\"unv_22706307\"></span> | <a href=\"hide?id=22706307&amp;goto=news\">hide</a> | <a href=\"item?id=22706307\">76&nbsp;comments</a>              </td></tr>\n",
      "      <tr class=\"spacer\" style=\"height:5px\"></tr>\n",
      "                <tr class='athing' id='22702195'>\n",
      "      <td align=\"right\" valign=\"top\" class=\"title\"><span class=\"rank\">29.</span></td>      <td valign=\"top\" class=\"votelinks\"><center><a id='up_22702195' href='vote?id=22702195&amp;how=up&amp;goto=news'><div class='votearrow' title='upvote'></div></a></center></td><td class=\"title\"><a href=\"https://mycroft.ai/\" class=\"storylink\">Mycroft – An open-source voice assistant</a><span class=\"sitebit comhead\"> (<a href=\"from?site=mycroft.ai\"><span class=\"sitestr\">mycroft.ai</span></a>)</span></td></tr><tr><td colspan=\"2\"></td><td class=\"subtext\">\n",
      "        <span class=\"score\" id=\"score_22702195\">334 points</span> by <a href=\"user?id=doener\" class=\"hnuser\">doener</a> <span class=\"age\"><a href=\"item?id=22702195\">16 hours ago</a></span> <span id=\"unv_22702195\"></span> | <a href=\"hide?id=22702195&amp;goto=news\">hide</a> | <a href=\"item?id=22702195\">107&nbsp;comments</a>              </td></tr>\n",
      "      <tr class=\"spacer\" style=\"height:5px\"></tr>\n",
      "                <tr class='athing' id='22705709'>\n",
      "      <td align=\"right\" valign=\"top\" class=\"title\"><span class=\"rank\">30.</span></td>      <td valign=\"top\" class=\"votelinks\"><center><a id='up_22705709' href='vote?id=22705709&amp;how=up&amp;goto=news'><div class='votearrow' title='upvote'></div></a></center></td><td class=\"title\"><a href=\"https://www.ftm.nl/artikelen/roche-releases-recipe-after-public-pressure-while-european-commission-considers-intervention-due-to-coronavirus-test?share=zAjgaOIk2vqMQ6J1ZHoW38hHe3MdMP1UJi%2B2iSMOZST2iUbOAxHAt6O9VfbKfw%3D%3D\" class=\"storylink\">Roche releases Covid-19 test recipe, after EC considers intervention</a><span class=\"sitebit comhead\"> (<a href=\"from?site=ftm.nl\"><span class=\"sitestr\">ftm.nl</span></a>)</span></td></tr><tr><td colspan=\"2\"></td><td class=\"subtext\">\n",
      "        <span class=\"score\" id=\"score_22705709\">100 points</span> by <a href=\"user?id=itcrowd\" class=\"hnuser\">itcrowd</a> <span class=\"age\"><a href=\"item?id=22705709\">9 hours ago</a></span> <span id=\"unv_22705709\"></span> | <a href=\"hide?id=22705709&amp;goto=news\">hide</a> | <a href=\"item?id=22705709\">33&nbsp;comments</a>              </td></tr>\n",
      "      <tr class=\"spacer\" style=\"height:5px\"></tr>\n",
      "            <tr class=\"morespace\" style=\"height:10px\"></tr><tr><td colspan=\"2\"></td><td class=\"title\"><a href=\"news?p=2\" class=\"morelink\" rel=\"next\">More</a></td></tr>\n",
      "  </table>\n",
      "</td></tr>\n",
      "<tr><td><img src=\"s.gif\" height=\"10\" width=\"0\"><table width=\"100%\" cellspacing=\"0\" cellpadding=\"1\"><tr><td bgcolor=\"#ff6600\"></td></tr></table><br><center><span class=\"yclinks\"><a href=\"newsguidelines.html\">Guidelines</a>\n",
      "        | <a href=\"newsfaq.html\">FAQ</a>\n",
      "        | <a href=\"mailto:hn@ycombinator.com\">Support</a>\n",
      "        | <a href=\"https://github.com/HackerNews/API\">API</a>\n",
      "        | <a href=\"security.html\">Security</a>\n",
      "        | <a href=\"lists\">Lists</a>\n",
      "        | <a href=\"bookmarklet.html\" rel=\"nofollow\">Bookmarklet</a>\n",
      "        | <a href=\"http://www.ycombinator.com/legal/\">Legal</a>\n",
      "        | <a href=\"http://www.ycombinator.com/apply/\">Apply to YC</a>\n",
      "        | <a href=\"mailto:hn@ycombinator.com\">Contact</a></span><br><br><form method=\"get\" action=\"//hn.algolia.com/\">Search:\n",
      "          <input type=\"text\" name=\"q\" value=\"\" size=\"17\" autocorrect=\"off\" spellcheck=\"false\" autocapitalize=\"off\" autocomplete=\"false\"></form>\n",
      "            </center></td></tr>\n",
      "      </table></center></body><script type='text/javascript' src='hn.js?QbJiN3cRKlV4dvNUGJpv'></script></html>\n",
      "\n"
     ]
    }
   ],
   "source": [
    "import requests\n",
    "\n",
    "# Fetch a web page\n",
    "r = requests.get(\"https://news.ycombinator.com\")\n",
    "print(r.text)"
   ]
  },
  {
   "cell_type": "code",
   "execution_count": 10,
   "metadata": {},
   "outputs": [
    {
     "name": "stdout",
     "output_type": "stream",
     "text": [
      "\n",
      "        \n",
      "          \n",
      "        Hacker News\n",
      "        \n",
      "                  Hacker News\n",
      "              new | past | comments | ask | show | jobs | submit            \n",
      "                              login\n",
      "                          \n",
      "              \n",
      "\n",
      "              \n",
      "      1.      Zoom’s Use of Facebook’s SDK in iOS Client (zoom.us)\n",
      "        183 points by patrickyevsukov 3 hours ago  | hide | 67&nbsp;comments              \n",
      "      \n",
      "                \n",
      "      2.      Robinhood accused of offering $75 credit to wipe out class action lawsuit claims (bloomberg.com)\n",
      "        24 points by rococode 1 hour ago  | hide | 4&nbsp;comments              \n",
      "      \n",
      "                \n",
      "      3.      The Hardest Program I've Ever Written – How a code formatter works (2015) (stuffwithstuff.com)\n",
      "        272 points by pcr910303 8 hours ago  | hide | 76&nbsp;comments              \n",
      "      \n",
      "                \n",
      "      4.      Sony spins off camera business into separate company (petapixel.com)\n",
      "        88 points by notlukesky 5 hours ago  | hide | 41&nbsp;comments              \n",
      "      \n",
      "                \n",
      "      5.      The Chapel Parallel Programming Language (chapel-lang.org)\n",
      "        63 points by wuschel 4 hours ago  | hide | 18&nbsp;comments              \n",
      "      \n",
      "                \n",
      "      6.      Banham avec Ballard: On style and violence (2019) (cabinetmagazine.org)\n",
      "        14 points by silt 1 hour ago  | hide | 1&nbsp;comment              \n",
      "      \n",
      "                \n",
      "      7.      Coyotes are being seen on the empty streets of San Francisco (sfgate.com)\n",
      "        230 points by spking 9 hours ago  | hide | 206&nbsp;comments              \n",
      "      \n",
      "                \n",
      "      8.      Bokehlicious Selfies (rahulrav.com)\n",
      "        57 points by rahulrav 3 hours ago  | hide | 15&nbsp;comments              \n",
      "      \n",
      "                \n",
      "      9.      How are Unix pipes implemented? (toroid.org)\n",
      "        265 points by Arnt 11 hours ago  | hide | 30&nbsp;comments              \n",
      "      \n",
      "                \n",
      "      10.      Zoom needs to clean up its privacy act (blogs.harvard.edu)\n",
      "        1391 points by seapunk 14 hours ago  | hide | 455&nbsp;comments              \n",
      "      \n",
      "                \n",
      "      11.      FDA grants emergency use authorization for 5-13 minute Covid-19 test (abbott.com)\n",
      "        56 points by edouard-harris 2 hours ago  | hide | 40&nbsp;comments              \n",
      "      \n",
      "                \n",
      "      12.      Ask HN: Computer Science/History Books?\n",
      "        162 points by jackofalltrades 9 hours ago  | hide | 87&nbsp;comments              \n",
      "      \n",
      "                \n",
      "      13.      The theory of infectious origin of the Alzheimer’s disease (padiracinnovation.org)\n",
      "        142 points by JPLeRouzic 10 hours ago  | hide | 59&nbsp;comments              \n",
      "      \n",
      "                \n",
      "      14.      Show HN: Introvert – Generative artwork to keep you off your phone (iamintrovert.co)\n",
      "        259 points by ilyayudanov 14 hours ago  | hide | 74&nbsp;comments              \n",
      "      \n",
      "                \n",
      "      15.      Abbott Launches 5-Minute Covid-19 Test for Use Almost Anywhere (bloomberg.com)\n",
      "        31 points by rafaelc 2 hours ago  | hide | 1&nbsp;comment              \n",
      "      \n",
      "                \n",
      "      16.      Programming Models for Distributed Computation (github.com)\n",
      "        14 points by simonpure 2 hours ago  | hide | discuss              \n",
      "      \n",
      "                \n",
      "      17.      SBA Disaster Loans: Unofficial guide for freelancers and startups (wunderstock.com)\n",
      "        147 points by danielfoster 13 hours ago  | hide | 41&nbsp;comments              \n",
      "      \n",
      "                \n",
      "      18.      The iOS and Mac markets are almost the same size? (inessential.com)\n",
      "        66 points by pcr910303 8 hours ago  | hide | 55&nbsp;comments              \n",
      "      \n",
      "                \n",
      "      19.      Use a Decision Journal (trello.com)\n",
      "        155 points by ingve 13 hours ago  | hide | 27&nbsp;comments              \n",
      "      \n",
      "                \n",
      "      20.      Instacart’s gig workers are planning a nationwide strike (vice.com)\n",
      "        121 points by gcheong 5 hours ago  | hide | 81&nbsp;comments              \n",
      "      \n",
      "                \n",
      "      21.      Mega-wars that shaped world history (mit.edu)\n",
      "        40 points by anarbadalov 7 hours ago  | hide | 32&nbsp;comments              \n",
      "      \n",
      "                \n",
      "      22.      Is there any code in Firefox (as of 2020) that comes from Netscape Navigator? (stackexchange.com)\n",
      "        124 points by aaronbrethorst 6 hours ago  | hide | 31&nbsp;comments              \n",
      "      \n",
      "                \n",
      "      23.      A Survey of Deep Learning for Scientific Discovery (arxiv.org)\n",
      "        76 points by alokrai 10 hours ago  | hide | 13&nbsp;comments              \n",
      "      \n",
      "                \n",
      "      24.      Show HN: YC's startup advice, organized and searchable (ycadvice.com)\n",
      "        109 points by nyrulez 12 hours ago  | hide | 28&nbsp;comments              \n",
      "      \n",
      "                \n",
      "      25.      A Light Box in Heavy Times (afandian.com)\n",
      "        112 points by afandian 13 hours ago  | hide | 20&nbsp;comments              \n",
      "      \n",
      "                \n",
      "      26.      Solution: ‘Is It Turtles All the Way Down?’ (quantamagazine.org)\n",
      "        39 points by theafh 7 hours ago  | hide | 1&nbsp;comment              \n",
      "      \n",
      "                \n",
      "      27.      Airbnb to halt all marketing, most hiring as losses mount (theinformation.com)\n",
      "        111 points by aaronbrethorst 6 hours ago  | hide | 64&nbsp;comments              \n",
      "      \n",
      "                \n",
      "      28.      Yelp to stop auto-creating fundraisers after outrage from business owners (theverge.com)\n",
      "        131 points by smacktoward 8 hours ago  | hide | 76&nbsp;comments              \n",
      "      \n",
      "                \n",
      "      29.      Mycroft – An open-source voice assistant (mycroft.ai)\n",
      "        334 points by doener 16 hours ago  | hide | 107&nbsp;comments              \n",
      "      \n",
      "                \n",
      "      30.      Roche releases Covid-19 test recipe, after EC considers intervention (ftm.nl)\n",
      "        100 points by itcrowd 9 hours ago  | hide | 33&nbsp;comments              \n",
      "      \n",
      "            More\n",
      "  \n",
      "\n",
      "Guidelines\n",
      "        | FAQ\n",
      "        | Support\n",
      "        | API\n",
      "        | Security\n",
      "        | Lists\n",
      "        | Bookmarklet\n",
      "        | Legal\n",
      "        | Apply to YC\n",
      "        | ContactSearch:\n",
      "          \n",
      "            \n",
      "      \n",
      "\n"
     ]
    }
   ],
   "source": [
    "import re\n",
    "\n",
    "# Remove HTML tags using RegEx\n",
    "pattern = re.compile(r'<.*?>')  # tags look like <...>\n",
    "print(pattern.sub('', r.text))  # replace them with blank"
   ]
  },
  {
   "cell_type": "code",
   "execution_count": 11,
   "metadata": {},
   "outputs": [
    {
     "name": "stdout",
     "output_type": "stream",
     "text": [
      "\n",
      "        \n",
      "          \n",
      "        Hacker News\n",
      "        \n",
      "                  Hacker News\n",
      "              new | past | comments | ask | show | jobs | submit            \n",
      "                              login\n",
      "                          \n",
      "              \n",
      "\n",
      "              \n",
      "      1.      Zoom’s Use of Facebook’s SDK in iOS Client (zoom.us)\n",
      "        183 points by patrickyevsukov 3 hours ago  | hide | 67 comments              \n",
      "      \n",
      "                \n",
      "      2.      Robinhood accused of offering $75 credit to wipe out class action lawsuit claims (bloomberg.com)\n",
      "        24 points by rococode 1 hour ago  | hide | 4 comments              \n",
      "      \n",
      "                \n",
      "      3.      The Hardest Program I've Ever Written – How a code formatter works (2015) (stuffwithstuff.com)\n",
      "        272 points by pcr910303 8 hours ago  | hide | 76 comments              \n",
      "      \n",
      "                \n",
      "      4.      Sony spins off camera business into separate company (petapixel.com)\n",
      "        88 points by notlukesky 5 hours ago  | hide | 41 comments              \n",
      "      \n",
      "                \n",
      "      5.      The Chapel Parallel Programming Language (chapel-lang.org)\n",
      "        63 points by wuschel 4 hours ago  | hide | 18 comments              \n",
      "      \n",
      "                \n",
      "      6.      Banham avec Ballard: On style and violence (2019) (cabinetmagazine.org)\n",
      "        14 points by silt 1 hour ago  | hide | 1 comment              \n",
      "      \n",
      "                \n",
      "      7.      Coyotes are being seen on the empty streets of San Francisco (sfgate.com)\n",
      "        230 points by spking 9 hours ago  | hide | 206 comments              \n",
      "      \n",
      "                \n",
      "      8.      Bokehlicious Selfies (rahulrav.com)\n",
      "        57 points by rahulrav 3 hours ago  | hide | 15 comments              \n",
      "      \n",
      "                \n",
      "      9.      How are Unix pipes implemented? (toroid.org)\n",
      "        265 points by Arnt 11 hours ago  | hide | 30 comments              \n",
      "      \n",
      "                \n",
      "      10.      Zoom needs to clean up its privacy act (blogs.harvard.edu)\n",
      "        1391 points by seapunk 14 hours ago  | hide | 455 comments              \n",
      "      \n",
      "                \n",
      "      11.      FDA grants emergency use authorization for 5-13 minute Covid-19 test (abbott.com)\n",
      "        56 points by edouard-harris 2 hours ago  | hide | 40 comments              \n",
      "      \n",
      "                \n",
      "      12.      Ask HN: Computer Science/History Books?\n",
      "        162 points by jackofalltrades 9 hours ago  | hide | 87 comments              \n",
      "      \n",
      "                \n",
      "      13.      The theory of infectious origin of the Alzheimer’s disease (padiracinnovation.org)\n",
      "        142 points by JPLeRouzic 10 hours ago  | hide | 59 comments              \n",
      "      \n",
      "                \n",
      "      14.      Show HN: Introvert – Generative artwork to keep you off your phone (iamintrovert.co)\n",
      "        259 points by ilyayudanov 14 hours ago  | hide | 74 comments              \n",
      "      \n",
      "                \n",
      "      15.      Abbott Launches 5-Minute Covid-19 Test for Use Almost Anywhere (bloomberg.com)\n",
      "        31 points by rafaelc 2 hours ago  | hide | 1 comment              \n",
      "      \n",
      "                \n",
      "      16.      Programming Models for Distributed Computation (github.com)\n",
      "        14 points by simonpure 2 hours ago  | hide | discuss              \n",
      "      \n",
      "                \n",
      "      17.      SBA Disaster Loans: Unofficial guide for freelancers and startups (wunderstock.com)\n",
      "        147 points by danielfoster 13 hours ago  | hide | 41 comments              \n",
      "      \n",
      "                \n",
      "      18.      The iOS and Mac markets are almost the same size? (inessential.com)\n",
      "        66 points by pcr910303 8 hours ago  | hide | 55 comments              \n",
      "      \n",
      "                \n",
      "      19.      Use a Decision Journal (trello.com)\n",
      "        155 points by ingve 13 hours ago  | hide | 27 comments              \n",
      "      \n",
      "                \n",
      "      20.      Instacart’s gig workers are planning a nationwide strike (vice.com)\n",
      "        121 points by gcheong 5 hours ago  | hide | 81 comments              \n",
      "      \n",
      "                \n",
      "      21.      Mega-wars that shaped world history (mit.edu)\n",
      "        40 points by anarbadalov 7 hours ago  | hide | 32 comments              \n",
      "      \n",
      "                \n",
      "      22.      Is there any code in Firefox (as of 2020) that comes from Netscape Navigator? (stackexchange.com)\n",
      "        124 points by aaronbrethorst 6 hours ago  | hide | 31 comments              \n",
      "      \n",
      "                \n",
      "      23.      A Survey of Deep Learning for Scientific Discovery (arxiv.org)\n",
      "        76 points by alokrai 10 hours ago  | hide | 13 comments              \n",
      "      \n",
      "                \n",
      "      24.      Show HN: YC's startup advice, organized and searchable (ycadvice.com)\n",
      "        109 points by nyrulez 12 hours ago  | hide | 28 comments              \n",
      "      \n",
      "                \n",
      "      25.      A Light Box in Heavy Times (afandian.com)\n",
      "        112 points by afandian 13 hours ago  | hide | 20 comments              \n",
      "      \n",
      "                \n",
      "      26.      Solution: ‘Is It Turtles All the Way Down?’ (quantamagazine.org)\n",
      "        39 points by theafh 7 hours ago  | hide | 1 comment              \n",
      "      \n",
      "                \n",
      "      27.      Airbnb to halt all marketing, most hiring as losses mount (theinformation.com)\n",
      "        111 points by aaronbrethorst 6 hours ago  | hide | 64 comments              \n",
      "      \n",
      "                \n",
      "      28.      Yelp to stop auto-creating fundraisers after outrage from business owners (theverge.com)\n",
      "        131 points by smacktoward 8 hours ago  | hide | 76 comments              \n",
      "      \n",
      "                \n",
      "      29.      Mycroft – An open-source voice assistant (mycroft.ai)\n",
      "        334 points by doener 16 hours ago  | hide | 107 comments              \n",
      "      \n",
      "                \n",
      "      30.      Roche releases Covid-19 test recipe, after EC considers intervention (ftm.nl)\n",
      "        100 points by itcrowd 9 hours ago  | hide | 33 comments              \n",
      "      \n",
      "            More\n",
      "  \n",
      "\n",
      "Guidelines\n",
      "        | FAQ\n",
      "        | Support\n",
      "        | API\n",
      "        | Security\n",
      "        | Lists\n",
      "        | Bookmarklet\n",
      "        | Legal\n",
      "        | Apply to YC\n",
      "        | ContactSearch:\n",
      "          \n",
      "            \n",
      "      \n",
      "\n"
     ]
    }
   ],
   "source": [
    "from bs4 import BeautifulSoup\n",
    "\n",
    "# Remove HTML tags using Beautiful Soup library\n",
    "soup = BeautifulSoup(r.text, \"html5lib\")\n",
    "print(soup.get_text())"
   ]
  },
  {
   "cell_type": "code",
   "execution_count": 12,
   "metadata": {
    "scrolled": true
   },
   "outputs": [
    {
     "data": {
      "text/plain": [
       "<tr class=\"athing\" id=\"22708233\">\n",
       "      <td align=\"right\" class=\"title\" valign=\"top\"><span class=\"rank\">1.</span></td>      <td class=\"votelinks\" valign=\"top\"><center><a href=\"vote?id=22708233&amp;how=up&amp;goto=news\" id=\"up_22708233\"><div class=\"votearrow\" title=\"upvote\"></div></a></center></td><td class=\"title\"><a class=\"storylink\" href=\"https://blog.zoom.us/wordpress/2020/03/27/zoom-use-of-facebook-sdk-in-ios-client/\">Zoom’s Use of Facebook’s SDK in iOS Client</a><span class=\"sitebit comhead\"> (<a href=\"from?site=zoom.us\"><span class=\"sitestr\">zoom.us</span></a>)</span></td></tr>"
      ]
     },
     "execution_count": 12,
     "metadata": {},
     "output_type": "execute_result"
    }
   ],
   "source": [
    "# Find all articles\n",
    "summaries = soup.find_all(\"tr\", class_=\"athing\")\n",
    "summaries[0]"
   ]
  },
  {
   "cell_type": "code",
   "execution_count": 13,
   "metadata": {},
   "outputs": [
    {
     "data": {
      "text/plain": [
       "'Zoom’s Use of Facebook’s SDK in iOS Client'"
      ]
     },
     "execution_count": 13,
     "metadata": {},
     "output_type": "execute_result"
    }
   ],
   "source": [
    "# Extract title\n",
    "summaries[0].find(\"a\", class_=\"storylink\").get_text().strip()"
   ]
  },
  {
   "cell_type": "code",
   "execution_count": 14,
   "metadata": {},
   "outputs": [
    {
     "name": "stdout",
     "output_type": "stream",
     "text": [
      "30 Article summaries found. Sample:\n",
      "Zoom’s Use of Facebook’s SDK in iOS Client\n"
     ]
    }
   ],
   "source": [
    "# Find all articles, extract titles\n",
    "articles = []\n",
    "summaries = soup.find_all(\"tr\", class_=\"athing\")\n",
    "for summary in summaries:\n",
    "    title = summary.find(\"a\", class_=\"storylink\").get_text().strip()\n",
    "    articles.append((title))\n",
    "\n",
    "print(len(articles), \"Article summaries found. Sample:\")\n",
    "print(articles[0])"
   ]
  },
  {
   "cell_type": "markdown",
   "metadata": {
    "collapsed": true
   },
   "source": [
    "## Normalization"
   ]
  },
  {
   "cell_type": "markdown",
   "metadata": {},
   "source": [
    "### Case Normalization"
   ]
  },
  {
   "cell_type": "code",
   "execution_count": 15,
   "metadata": {},
   "outputs": [
    {
     "name": "stdout",
     "output_type": "stream",
     "text": [
      "The first time you see The Second Renaissance it may look boring. Look at it at least twice and definitely watch part 2. It will change your view of the matrix. Are the human people the ones who started the war ? Is AI a bad thing ?\n"
     ]
    }
   ],
   "source": [
    "# Sample text\n",
    "text = \"The first time you see The Second Renaissance it may look boring. Look at it at least twice and definitely watch part 2. It will change your view of the matrix. Are the human people the ones who started the war ? Is AI a bad thing ?\"\n",
    "print(text)"
   ]
  },
  {
   "cell_type": "code",
   "execution_count": 16,
   "metadata": {},
   "outputs": [
    {
     "name": "stdout",
     "output_type": "stream",
     "text": [
      "the first time you see the second renaissance it may look boring. look at it at least twice and definitely watch part 2. it will change your view of the matrix. are the human people the ones who started the war ? is ai a bad thing ?\n"
     ]
    }
   ],
   "source": [
    "# Convert to lowercase\n",
    "text = text.lower() \n",
    "print(text)"
   ]
  },
  {
   "cell_type": "markdown",
   "metadata": {},
   "source": [
    "### Punctuation Removal"
   ]
  },
  {
   "cell_type": "code",
   "execution_count": 17,
   "metadata": {},
   "outputs": [
    {
     "name": "stdout",
     "output_type": "stream",
     "text": [
      "the first time you see the second renaissance it may look boring  look at it at least twice and definitely watch part 2  it will change your view of the matrix  are the human people the ones who started the war   is ai a bad thing  \n"
     ]
    }
   ],
   "source": [
    "import re\n",
    "\n",
    "# Remove punctuation characters\n",
    "text = re.sub(r\"[^a-zA-Z0-9]\", \" \", text) \n",
    "print(text)"
   ]
  },
  {
   "cell_type": "markdown",
   "metadata": {},
   "source": [
    "## Tokenization"
   ]
  },
  {
   "cell_type": "code",
   "execution_count": null,
   "metadata": {},
   "outputs": [],
   "source": [
    "# Split text into tokens (words)\n",
    "words = text.split()\n",
    "print(words)"
   ]
  },
  {
   "cell_type": "markdown",
   "metadata": {},
   "source": [
    "### NLTK: Natural Language ToolKit"
   ]
  },
  {
   "cell_type": "code",
   "execution_count": null,
   "metadata": {},
   "outputs": [],
   "source": [
    "import os\n",
    "import nltk\n",
    "nltk.data.path.append(os.path.join(os.getcwd(), \"nltk_data\"))"
   ]
  },
  {
   "cell_type": "code",
   "execution_count": null,
   "metadata": {},
   "outputs": [],
   "source": [
    "# Another sample text\n",
    "text = \"Dr. Smith graduated from the University of Washington. He later started an analytics firm called Lux, which catered to enterprise customers.\"\n",
    "print(text)"
   ]
  },
  {
   "cell_type": "code",
   "execution_count": null,
   "metadata": {},
   "outputs": [],
   "source": [
    "from nltk.tokenize import word_tokenize\n",
    "\n",
    "# Split text into words using NLTK\n",
    "words = word_tokenize(text)\n",
    "print(words)"
   ]
  },
  {
   "cell_type": "code",
   "execution_count": null,
   "metadata": {},
   "outputs": [],
   "source": [
    "from nltk.tokenize import sent_tokenize\n",
    "\n",
    "# Split text into sentences\n",
    "sentences = sent_tokenize(text)\n",
    "print(sentences)"
   ]
  },
  {
   "cell_type": "code",
   "execution_count": null,
   "metadata": {},
   "outputs": [],
   "source": [
    "# List stop words\n",
    "from nltk.corpus import stopwords\n",
    "print(stopwords.words(\"english\"))"
   ]
  },
  {
   "cell_type": "code",
   "execution_count": null,
   "metadata": {},
   "outputs": [],
   "source": [
    "# Reset text\n",
    "text = \"The first time you see The Second Renaissance it may look boring. Look at it at least twice and definitely watch part 2. It will change your view of the matrix. Are the human people the ones who started the war ? Is AI a bad thing ?\"\n",
    "\n",
    "# Normalize it\n",
    "text = re.sub(r\"[^a-zA-Z0-9]\", \" \", text.lower())\n",
    "\n",
    "# Tokenize it\n",
    "words = text.split()\n",
    "print(words)"
   ]
  },
  {
   "cell_type": "code",
   "execution_count": null,
   "metadata": {},
   "outputs": [],
   "source": [
    "# Remove stop words\n",
    "words = [w for w in words if w not in stopwords.words(\"english\")]\n",
    "print(words)"
   ]
  },
  {
   "cell_type": "markdown",
   "metadata": {},
   "source": [
    "### Sentence Parsing"
   ]
  },
  {
   "cell_type": "code",
   "execution_count": null,
   "metadata": {},
   "outputs": [],
   "source": [
    "import nltk\n",
    "\n",
    "# Define a custom grammar\n",
    "my_grammar = nltk.CFG.fromstring(\"\"\"\n",
    "S -> NP VP\n",
    "PP -> P NP\n",
    "NP -> Det N | Det N PP | 'I'\n",
    "VP -> V NP | VP PP\n",
    "Det -> 'an' | 'my'\n",
    "N -> 'elephant' | 'pajamas'\n",
    "V -> 'shot'\n",
    "P -> 'in'\n",
    "\"\"\")\n",
    "parser = nltk.ChartParser(my_grammar)\n",
    "\n",
    "# Parse a sentence\n",
    "sentence = word_tokenize(\"I shot an elephant in my pajamas\")\n",
    "for tree in parser.parse(sentence):\n",
    "    print(tree)"
   ]
  },
  {
   "cell_type": "markdown",
   "metadata": {},
   "source": [
    "## Stemming & Lemmatization\n",
    "\n",
    "### Stemming"
   ]
  },
  {
   "cell_type": "code",
   "execution_count": null,
   "metadata": {},
   "outputs": [],
   "source": [
    "from nltk.stem.porter import PorterStemmer\n",
    "\n",
    "# Reduce words to their stems\n",
    "stemmed = [PorterStemmer().stem(w) for w in words]\n",
    "print(stemmed)"
   ]
  },
  {
   "cell_type": "markdown",
   "metadata": {},
   "source": [
    "### Lemmatization"
   ]
  },
  {
   "cell_type": "code",
   "execution_count": null,
   "metadata": {},
   "outputs": [],
   "source": [
    "from nltk.stem.wordnet import WordNetLemmatizer\n",
    "\n",
    "# Reduce words to their root form\n",
    "lemmed = [WordNetLemmatizer().lemmatize(w) for w in words]\n",
    "print(lemmed)"
   ]
  },
  {
   "cell_type": "code",
   "execution_count": null,
   "metadata": {},
   "outputs": [],
   "source": [
    "# Lemmatize verbs by specifying pos\n",
    "lemmed = [WordNetLemmatizer().lemmatize(w, pos='v') for w in lemmed]\n",
    "print(lemmed)"
   ]
  },
  {
   "cell_type": "code",
   "execution_count": null,
   "metadata": {},
   "outputs": [],
   "source": []
  }
 ],
 "metadata": {
  "kernelspec": {
   "display_name": "Python 3",
   "language": "python",
   "name": "python3"
  },
  "language_info": {
   "codemirror_mode": {
    "name": "ipython",
    "version": 3
   },
   "file_extension": ".py",
   "mimetype": "text/x-python",
   "name": "python",
   "nbconvert_exporter": "python",
   "pygments_lexer": "ipython3",
   "version": "3.8.2"
  }
 },
 "nbformat": 4,
 "nbformat_minor": 2
}
