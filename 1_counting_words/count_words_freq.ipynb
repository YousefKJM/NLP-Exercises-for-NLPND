{
 "cells": [
  {
   "cell_type": "code",
   "execution_count": 2,
   "metadata": {},
   "outputs": [],
   "source": [
    "\"\"\"Count words.\"\"\"\n",
    "import re #Import the re module which can be used to work with Regular Expressions."
   ]
  },
  {
   "cell_type": "code",
   "execution_count": 3,
   "metadata": {},
   "outputs": [],
   "source": [
    "def count_words(text):\n",
    "    \"\"\"Count how many times each unique word occurs in text.\"\"\"\n",
    "    counts = dict()  # dictionary of { <word>: <count> } pairs to return\n",
    "\n",
    "    # TODO: Convert to lowercase\n",
    "    text = text.lower()\n",
    "    # print(text)\n",
    "    # TODO: Split text into tokens (words), leaving out punctuation\n",
    "    # (Hint: Use regex to split on non-alphanumeric characters)\n",
    "    text_list = re.split(r'(?<=[a-z])[\\s\\W]*',text)\n",
    "    \n",
    "    # the split leaves an extra word '' at the end of the list\n",
    "    # refreshing the list this way removes it\n",
    "    # text_list = text_list[0:-1]\n",
    "    text_list = [i for i in text_list if i != '']\n",
    "    # print(text_list)\n",
    "    \n",
    "    # TODO: Aggregate word counts using a dictionary\n",
    "    for word in text_list:\n",
    "        if word in counts:\n",
    "            counts[word] += 1 \n",
    "        else:\n",
    "            counts[word] = 1\n",
    "\n",
    "    return counts"
   ]
  },
  {
   "cell_type": "code",
   "execution_count": null,
   "metadata": {},
   "outputs": [],
   "source": []
  }
 ],
 "metadata": {
  "kernelspec": {
   "display_name": "Python 3",
   "language": "python",
   "name": "python3"
  },
  "language_info": {
   "codemirror_mode": {
    "name": "ipython",
    "version": 3
   },
   "file_extension": ".py",
   "mimetype": "text/x-python",
   "name": "python",
   "nbconvert_exporter": "python",
   "pygments_lexer": "ipython3",
   "version": "3.8.2"
  }
 },
 "nbformat": 4,
 "nbformat_minor": 4
}
